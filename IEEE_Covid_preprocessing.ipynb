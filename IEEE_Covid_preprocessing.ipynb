{
  "nbformat": 4,
  "nbformat_minor": 0,
  "metadata": {
    "colab": {
      "name": "IEEE_Covid_preprocessing.ipynb",
      "provenance": [],
      "collapsed_sections": [],
      "mount_file_id": "1kpMAbkhUwPDF16cezDZG1Lkc3o-ju1fM",
      "authorship_tag": "ABX9TyMDkyzLJ37mpmL6qshcLJKz"
    },
    "kernelspec": {
      "name": "python3",
      "display_name": "Python 3"
    }
  },
  "cells": [
    {
      "cell_type": "markdown",
      "metadata": {
        "id": "gMvKeu7cuhi5",
        "colab_type": "text"
      },
      "source": [
        "## Download Kaggle Dataset without losing 1 byte"
      ]
    },
    {
      "cell_type": "code",
      "metadata": {
        "id": "YwKegI_kYYOL",
        "colab_type": "code",
        "colab": {}
      },
      "source": [
        "import os\n",
        "import glob\n",
        "import shutil\n",
        "import numpy as np\n",
        "import pandas as pd\n",
        "from tqdm import tqdm\n",
        "import matplotlib.pyplot as plt\n",
        "from PIL import Image, ImageFile\n",
        "from joblib import Parallel, delayed\n",
        "\n",
        "ImageFile.LOAD_TRUNCATED_IMAGES = True"
      ],
      "execution_count": null,
      "outputs": []
    },
    {
      "cell_type": "markdown",
      "metadata": {
        "id": "bdfnTzlTwZjC",
        "colab_type": "text"
      },
      "source": [
        "# Fast image resize"
      ]
    },
    {
      "cell_type": "code",
      "metadata": {
        "id": "-Vp7Y5ANdeav",
        "colab_type": "code",
        "colab": {}
      },
      "source": [
        "# resizing function\n",
        "def fastResize(image_path, output_folder, resize):\n",
        "    basename = os.path.basename(image_path)\n",
        "    output = os.path.join(output_folder, basename)\n",
        "    image = Image.open(image_path)\n",
        "    image = image.resize((resize[1], resize[0]), resample = Image.BILINEAR)\n",
        "    image.save(output)"
      ],
      "execution_count": null,
      "outputs": []
    },
    {
      "cell_type": "code",
      "metadata": {
        "id": "iOxIOKV-dlgF",
        "colab_type": "code",
        "colab": {}
      },
      "source": [
        "# defining path\n",
        "inputpath = ('/content/drive/My Drive/data/Others/')\n",
        "output = ('/content/drive/My Drive/data/Resized224x224/')\n",
        "images = glob.glob(os.path.join(inputpath, '*png'))"
      ],
      "execution_count": null,
      "outputs": []
    },
    {
      "cell_type": "code",
      "metadata": {
        "id": "ky8Cik56d_GI",
        "colab_type": "code",
        "colab": {}
      },
      "source": [
        "# parallelize operation for speed up operation.\n",
        "Parallel(n_jobs=4)(\n",
        "    delayed(fastResize)(\n",
        "        i,\n",
        "        output,\n",
        "        (224, 224)\n",
        "    ) for i in tqdm(images)    \n",
        ")"
      ],
      "execution_count": null,
      "outputs": []
    },
    {
      "cell_type": "code",
      "metadata": {
        "id": "BUp7paGqeKPq",
        "colab_type": "code",
        "colab": {
          "base_uri": "https://localhost:8080/",
          "height": 34
        },
        "outputId": "1aa02b10-83a8-4a91-a0c0-686b8df66e2c"
      },
      "source": [
        "len(os.listdir(output))"
      ],
      "execution_count": null,
      "outputs": [
        {
          "output_type": "execute_result",
          "data": {
            "text/plain": [
              "266"
            ]
          },
          "metadata": {
            "tags": []
          },
          "execution_count": 64
        }
      ]
    },
    {
      "cell_type": "markdown",
      "metadata": {
        "id": "wrui_kTweiEI",
        "colab_type": "text"
      },
      "source": [
        "#################################################################"
      ]
    },
    {
      "cell_type": "code",
      "metadata": {
        "id": "kfAXHR9nej0W",
        "colab_type": "code",
        "colab": {}
      },
      "source": [
        "os.makedirs('/content/sample_data/NIH')\n",
        "os.chdir('/content/sample_data/NIH')\n",
        "\n",
        "!wget --header=\"Host: storage.googleapis.com\" --header=\"User-Agent: Mozilla/5.0 (Windows NT 10.0; Win64; x64) AppleWebKit/537.36 (KHTML, like Gecko) Chrome/83.0.4103.116 Safari/537.36\" --header=\"Accept: text/html,application/xhtml+xml,application/xml;q=0.9,image/webp,image/apng,*/*;q=0.8,application/signed-exchange;v=b3;q=0.9\" --header=\"Accept-Language: en-US,en;q=0.9\" --header=\"Referer: https://www.kaggle.com/\" \"https://storage.googleapis.com/kaggle-data-sets/4667%2F7773%2Fbundle%2Farchive.zip?GoogleAccessId=gcp-kaggle-com@kaggle-161607.iam.gserviceaccount.com&Expires=1593265142&Signature=Sx0i3kjXmY%2BmngyGYGY6UqP0J9eJrhocVJhovdOXw5kI0YGeXA2EJO%2BMpr4FyebX0ksXowQrPATib19nsEd9S0MHOTFDXpmcqoNR4PDXyR6neshtsVNfdNnaz556TrRwL%2FDIH07sJ3OCkGvh8NyFcXY6Y5yN6fknphXIJeN7BU3GGYKPoQxBHRtxDl2CCGqfc%2BB6Y9k40io0rvP72WllNCH47MlKB%2BLqdOhHV1ejig596FndqpBep4J%2FmEnJBxLkQjC%2BB5OEfJDPeVOpAyHxDpEWflyCFDeeDv7fETBvtpLnHXlRoZND%2FPHDmq6mJAINyfX%2Bf1NRVcoWq24zBoDu4g%3D%3D\" -c -O '4667_7773_bundle_archive.zip'\n",
        "!unzip ./4667_7773_bundle_archive.zip"
      ],
      "execution_count": null,
      "outputs": []
    },
    {
      "cell_type": "code",
      "metadata": {
        "id": "MIdk7EvafBQg",
        "colab_type": "code",
        "colab": {}
      },
      "source": [
        "nih = pd.read_csv('sample/sample_labels.csv')\n",
        "Cardiomegaly = nih['Finding Labels'] == 'Cardiomegaly'\n",
        "Cardiomegaly = nih[Cardiomegaly]\n",
        "# Cardiomegaly"
      ],
      "execution_count": null,
      "outputs": []
    },
    {
      "cell_type": "code",
      "metadata": {
        "id": "ilvAk43zkjfK",
        "colab_type": "code",
        "colab": {
          "base_uri": "https://localhost:8080/",
          "height": 34
        },
        "outputId": "86561548-6359-44fe-db16-71bb65160cf5"
      },
      "source": [
        "len(Cardiomegaly)"
      ],
      "execution_count": null,
      "outputs": [
        {
          "output_type": "execute_result",
          "data": {
            "text/plain": [
              "50"
            ]
          },
          "metadata": {
            "tags": []
          },
          "execution_count": 8
        }
      ]
    },
    {
      "cell_type": "code",
      "metadata": {
        "id": "rxmejbLnljgo",
        "colab_type": "code",
        "colab": {}
      },
      "source": [
        "destination = ('/content/drive/My Drive/data/Others/')"
      ],
      "execution_count": null,
      "outputs": []
    },
    {
      "cell_type": "code",
      "metadata": {
        "id": "2JGD6Prpl1ca",
        "colab_type": "code",
        "colab": {}
      },
      "source": [
        "source = os.listdir('sample/sample/images/')"
      ],
      "execution_count": null,
      "outputs": []
    },
    {
      "cell_type": "code",
      "metadata": {
        "id": "lvTRTe4kmkwl",
        "colab_type": "code",
        "colab": {}
      },
      "source": [
        "for img in Cardiomegaly['Image Index']:\n",
        "  if img in source:\n",
        "    shutil.copy(os.path.join('sample/sample/images/', img), destination)"
      ],
      "execution_count": null,
      "outputs": []
    },
    {
      "cell_type": "code",
      "metadata": {
        "id": "GTSY6deKopL0",
        "colab_type": "code",
        "colab": {}
      },
      "source": [
        "for count, filename in enumerate(os.listdir(destination)):\n",
        "    root_ext = os.path.splitext(filename)\n",
        "    dst = \"Cardiomegaly_\" + str(count) + root_ext[1]\n",
        "    src = destination + filename\n",
        "    dst = destination + dst\n",
        "    os.rename(src, dst)"
      ],
      "execution_count": null,
      "outputs": []
    },
    {
      "cell_type": "code",
      "metadata": {
        "id": "Yy9nLeBipSYN",
        "colab_type": "code",
        "colab": {
          "base_uri": "https://localhost:8080/",
          "height": 151
        },
        "outputId": "77839a59-7426-410a-d871-d9538d8f75aa"
      },
      "source": [
        "os.makedirs('/content/sample_data/Covid', exist_ok=True)\n",
        "os.chdir('/content/sample_data/Covid')\n",
        "\n",
        "!git clone https://github.com/ieee8023/covid-chestxray-dataset.git\n"
      ],
      "execution_count": null,
      "outputs": [
        {
          "output_type": "stream",
          "text": [
            "Cloning into 'covid-chestxray-dataset'...\n",
            "remote: Enumerating objects: 37, done.\u001b[K\n",
            "remote: Counting objects: 100% (37/37), done.\u001b[K\n",
            "remote: Compressing objects: 100% (30/30), done.\u001b[K\n",
            "remote: Total 3170 (delta 7), reused 34 (delta 7), pack-reused 3133\u001b[K\n",
            "Receiving objects: 100% (3170/3170), 582.55 MiB | 40.46 MiB/s, done.\n",
            "Resolving deltas: 100% (1243/1243), done.\n",
            "Checking out files: 100% (969/969), done.\n"
          ],
          "name": "stdout"
        }
      ]
    },
    {
      "cell_type": "code",
      "metadata": {
        "id": "TMyuCzMZqZzy",
        "colab_type": "code",
        "colab": {}
      },
      "source": [
        "covid = pd.read_csv('covid-chestxray-dataset/metadata.csv')\n",
        "# covid19 = ['COVID-19']\n",
        "# PA = ['PA']\n",
        "# covid = covid[~covid.finding.isin(covid19) & covid.view.isin(PA)]\n",
        "# covid[covid['finding'] == 'COVID-19'] & covid[covid['view'] == 'PA']\n",
        "covid = covid[(covid['finding'] == 'COVID-19') & (covid['view'] == 'PA' )]"
      ],
      "execution_count": null,
      "outputs": []
    },
    {
      "cell_type": "code",
      "metadata": {
        "id": "5BRhmcPDrSxX",
        "colab_type": "code",
        "colab": {}
      },
      "source": [
        "covid_source = os.listdir('covid-chestxray-dataset/images/')\n",
        "# os.makedirs('/content/drive/My Drive/data/Covid_data/', exist_ok=True)\n",
        "covid_destination = ('/content/drive/My Drive/data/Others/')"
      ],
      "execution_count": null,
      "outputs": []
    },
    {
      "cell_type": "code",
      "metadata": {
        "id": "gPfs2VrxsRId",
        "colab_type": "code",
        "colab": {}
      },
      "source": [
        "for file in os.listdir('/content/drive/My Drive/data/Others_old/'):\n",
        "    shutil.copy(os.path.join('/content/drive/My Drive/data/Others_old/', file), covid_destination)"
      ],
      "execution_count": null,
      "outputs": []
    },
    {
      "cell_type": "code",
      "metadata": {
        "id": "zuA2U7j3zWqT",
        "colab_type": "code",
        "colab": {}
      },
      "source": [
        "for count, filename in enumerate(os.listdir(covid_destination)):\n",
        "    root_ext = os.path.splitext(filename)\n",
        "    dst = \"Others_test_\" + str(count) + root_ext[1]\n",
        "    src = covid_destination + filename\n",
        "    dst = covid_destination + dst\n",
        "    os.rename(src, dst)"
      ],
      "execution_count": null,
      "outputs": []
    },
    {
      "cell_type": "code",
      "metadata": {
        "id": "vmsM0vO02BjY",
        "colab_type": "code",
        "colab": {}
      },
      "source": [
        "(os.listdir(covid_destination))"
      ],
      "execution_count": null,
      "outputs": []
    },
    {
      "cell_type": "code",
      "metadata": {
        "id": "SE3FcmPlaTLz",
        "colab_type": "code",
        "colab": {
          "base_uri": "https://localhost:8080/",
          "height": 34
        },
        "outputId": "266b6e51-42f9-427d-ee2c-3dfe760286af"
      },
      "source": [
        "for image in tqdm(glob.glob(\"/content/drive/My Drive/data/Others/*.jpg\")):\n",
        "    im = Image.open(image)\n",
        "    im.save(image.replace(\"jpg\", \"png\"))"
      ],
      "execution_count": null,
      "outputs": [
        {
          "output_type": "stream",
          "text": [
            "100%|██████████| 137/137 [00:50<00:00,  2.71it/s]\n"
          ],
          "name": "stderr"
        }
      ]
    },
    {
      "cell_type": "code",
      "metadata": {
        "id": "yaCt0hpOj0q6",
        "colab_type": "code",
        "colab": {}
      },
      "source": [
        "for file in os.listdir(covid_destination):\n",
        "   if file.endswith('.jpeg'):\n",
        "     os.remove(os.path.join('/content/drive/My Drive/data/Others/', file))"
      ],
      "execution_count": null,
      "outputs": []
    }
  ]
}