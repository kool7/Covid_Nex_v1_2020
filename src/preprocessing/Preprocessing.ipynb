{
  "nbformat": 4,
  "nbformat_minor": 0,
  "metadata": {
    "colab": {
      "name": "Preprocessing.ipynb",
      "provenance": [],
      "mount_file_id": "1F6cP_PF7qwy1ItyTVf9nii05W84Ko0HP",
      "authorship_tag": "ABX9TyMxW7NzJZJRCrEfBg2zj1p7",
      "include_colab_link": true
    },
    "kernelspec": {
      "name": "python3",
      "display_name": "Python 3"
    }
  },
  "cells": [
    {
      "cell_type": "markdown",
      "metadata": {
        "id": "view-in-github",
        "colab_type": "text"
      },
      "source": [
        "<a href=\"https://colab.research.google.com/github/kool7/Covid_Nex_v1_2020/blob/master/src/preprocessing/Preprocessing.ipynb\" target=\"_parent\"><img src=\"https://colab.research.google.com/assets/colab-badge.svg\" alt=\"Open In Colab\"/></a>"
      ]
    },
    {
      "cell_type": "code",
      "metadata": {
        "id": "mZOueTOxJ2M9",
        "colab_type": "code",
        "colab": {}
      },
      "source": [
        "import os\n",
        "import glob\n",
        "import shutil\n",
        "from tqdm import tqdm\n",
        "import matplotlib.pyplot as plt\n",
        "from PIL import Image, ImageFile\n",
        "from joblib import Parallel, delayed\n",
        "\n",
        "ImageFile.LOAD_TRUNCATED_IMAGES = True"
      ],
      "execution_count": 19,
      "outputs": []
    },
    {
      "cell_type": "code",
      "metadata": {
        "id": "N8ETT-5uLFb_",
        "colab_type": "code",
        "colab": {}
      },
      "source": [
        "os.makedirs('/content/sample_data/Covid')\n",
        "os.chdir('/content/sample_data/Covid')\n",
        "\n",
        "!wget --header=\"Host: storage.googleapis.com\" --header=\"User-Agent: Mozilla/5.0 (Windows NT 10.0; Win64; x64) AppleWebKit/537.36 (KHTML, like Gecko) Chrome/83.0.4103.116 Safari/537.36\" --header=\"Accept: text/html,application/xhtml+xml,application/xml;q=0.9,image/webp,image/apng,*/*;q=0.8,application/signed-exchange;v=b3;q=0.9\" --header=\"Accept-Language: en-US,en;q=0.9\" --header=\"Referer: https://www.kaggle.com/\" \"https://storage.googleapis.com/kaggle-data-sets/627146%2F1117472%2Fbundle%2Farchive.zip?GoogleAccessId=gcp-kaggle-com@kaggle-161607.iam.gserviceaccount.com&Expires=1593762266&Signature=H7VJyl8CBUgw7NXLhOllDezlpQZ8YvyBpg1dmxK36mxSvDD0EZOnetvV4SJYmuOyz1p1PsW%2FzCqIZTTxYTL%2BAYFAHmO9wUXQKl4h74Bqn0K%2FqZH6NH3n1pdrA0DJPwRnYZLCszAz01yWHVEosp3iXLVK5bdcWH3C81HuycOSpShJeXQUssio4Kane0bWUIsG3o%2FGAmbZ0W3zy4z68YZqDsIvYiT%2FPh8QW%2F%2FZBGY%2FJZDUvN4VeJUweS%2F%2BtmBRSmRKBnn2lHmh447Q5ZcWCGmmEnjDLVsGfmzCcyiHYs4B4Y8Xy3C806X%2B0lOGiyHQF9qVHdZoAamHB%2BXtr%2FUvdqqx7g%3D%3D\" -c -O '627146_1117472_bundle_archive.zip'\n",
        "!unzip ./627146_1117472_bundle_archive.zip"
      ],
      "execution_count": null,
      "outputs": []
    },
    {
      "cell_type": "code",
      "metadata": {
        "id": "IF35niJXL-UB",
        "colab_type": "code",
        "colab": {}
      },
      "source": [
        "test_data = ('/content/sample_data/Covid/Covid19-dataset/test/')"
      ],
      "execution_count": 34,
      "outputs": []
    },
    {
      "cell_type": "code",
      "metadata": {
        "id": "pcfUB3L2NSDl",
        "colab_type": "code",
        "colab": {
          "base_uri": "https://localhost:8080/",
          "height": 34
        },
        "outputId": "8d43bd1f-c01c-460d-e211-eaf9726b1269"
      },
      "source": [
        "os.listdir(train_data)"
      ],
      "execution_count": 35,
      "outputs": [
        {
          "output_type": "execute_result",
          "data": {
            "text/plain": [
              "['Viral Pneumonia', 'Normal', 'Covid']"
            ]
          },
          "metadata": {
            "tags": []
          },
          "execution_count": 35
        }
      ]
    },
    {
      "cell_type": "code",
      "metadata": {
        "id": "RvuEU-W7NWbc",
        "colab_type": "code",
        "colab": {}
      },
      "source": [
        "covid = os.path.join(test_data, 'Covid')"
      ],
      "execution_count": 38,
      "outputs": []
    },
    {
      "cell_type": "code",
      "metadata": {
        "id": "iMPlH-3gOoUS",
        "colab_type": "code",
        "colab": {
          "base_uri": "https://localhost:8080/",
          "height": 34
        },
        "outputId": "32f8a683-127b-4af2-c1bf-d8f245c8eea5"
      },
      "source": [
        "len(os.listdir(covid))"
      ],
      "execution_count": 39,
      "outputs": [
        {
          "output_type": "execute_result",
          "data": {
            "text/plain": [
              "26"
            ]
          },
          "metadata": {
            "tags": []
          },
          "execution_count": 39
        }
      ]
    },
    {
      "cell_type": "markdown",
      "metadata": {
        "id": "BDBzChS-OCgx",
        "colab_type": "text"
      },
      "source": [
        "## Resize Images"
      ]
    },
    {
      "cell_type": "code",
      "metadata": {
        "id": "EFH4mUjjNkfo",
        "colab_type": "code",
        "colab": {}
      },
      "source": [
        "# resizing function\n",
        "def fastResize(image_path, output_folder, resize):\n",
        "    basename = os.path.basename(image_path)\n",
        "    output = os.path.join(output_folder, basename)\n",
        "    image = Image.open(image_path)\n",
        "    image = image.resize((resize[1], resize[0]), resample = Image.BILINEAR)\n",
        "    image.save(output)"
      ],
      "execution_count": 16,
      "outputs": []
    },
    {
      "cell_type": "code",
      "metadata": {
        "id": "cSqd7mqoOEfd",
        "colab_type": "code",
        "colab": {}
      },
      "source": [
        "# defining path\n",
        "inputpath = covid\n",
        "output = ('/content/drive/My Drive/data/data/')\n",
        "images = glob.glob(os.path.join(inputpath, '*'))"
      ],
      "execution_count": 40,
      "outputs": []
    },
    {
      "cell_type": "code",
      "metadata": {
        "id": "RpRl39jIOJGG",
        "colab_type": "code",
        "colab": {}
      },
      "source": [
        "# parallelize operation for speed up operation.\n",
        "Parallel(n_jobs=4)(\n",
        "    delayed(fastResize)(\n",
        "        i,\n",
        "        output,\n",
        "        (224, 224)\n",
        "    ) for i in tqdm(images)    \n",
        ")"
      ],
      "execution_count": null,
      "outputs": []
    },
    {
      "cell_type": "code",
      "metadata": {
        "id": "9lqAWRkbOTgH",
        "colab_type": "code",
        "colab": {}
      },
      "source": [
        "(os.listdir(output))"
      ],
      "execution_count": null,
      "outputs": []
    },
    {
      "cell_type": "markdown",
      "metadata": {
        "id": "P4PQiRL7QJ5_",
        "colab_type": "text"
      },
      "source": [
        "## Converting to PNG"
      ]
    },
    {
      "cell_type": "code",
      "metadata": {
        "id": "WEtPlgP9Poc-",
        "colab_type": "code",
        "colab": {
          "base_uri": "https://localhost:8080/",
          "height": 34
        },
        "outputId": "1dc6a0fd-a5fd-4394-bbf9-263ce1c26813"
      },
      "source": [
        "for image in tqdm(glob.glob(\"/content/drive/My Drive/data/data/*.jpg\")):\n",
        "    im = Image.open(image)\n",
        "    im.save(image.replace(\"jpg\", \"png\"))"
      ],
      "execution_count": 45,
      "outputs": [
        {
          "output_type": "stream",
          "text": [
            "100%|██████████| 11/11 [00:00<00:00, 54.68it/s]\n"
          ],
          "name": "stderr"
        }
      ]
    },
    {
      "cell_type": "code",
      "metadata": {
        "id": "k1V-XNQEQeoA",
        "colab_type": "code",
        "colab": {}
      },
      "source": [
        "for file in os.listdir(output):\n",
        "   if file.endswith('.jpeg'):\n",
        "     os.remove(os.path.join(output, file))"
      ],
      "execution_count": 47,
      "outputs": []
    },
    {
      "cell_type": "markdown",
      "metadata": {
        "id": "DqodeSLXQ4gN",
        "colab_type": "text"
      },
      "source": [
        "## Putting with other covid images"
      ]
    },
    {
      "cell_type": "code",
      "metadata": {
        "id": "XFldFOqYQz69",
        "colab_type": "code",
        "colab": {}
      },
      "source": [
        "for file in os.listdir(output):\n",
        "    shutil.copy(os.path.join(output, file), '/content/drive/My Drive/data/ChestXRay/Covid')"
      ],
      "execution_count": 49,
      "outputs": []
    },
    {
      "cell_type": "code",
      "metadata": {
        "id": "UbG7MJAeRbeB",
        "colab_type": "code",
        "colab": {
          "base_uri": "https://localhost:8080/",
          "height": 34
        },
        "outputId": "6d3f04a3-94b5-4757-8a71-98638c0d74c9"
      },
      "source": [
        "len(os.listdir('/content/drive/My Drive/data/ChestXRay/Covid'))"
      ],
      "execution_count": 50,
      "outputs": [
        {
          "output_type": "execute_result",
          "data": {
            "text/plain": [
              "337"
            ]
          },
          "metadata": {
            "tags": []
          },
          "execution_count": 50
        }
      ]
    },
    {
      "cell_type": "code",
      "metadata": {
        "id": "OdtZRmQfRhI5",
        "colab_type": "code",
        "colab": {}
      },
      "source": [
        ""
      ],
      "execution_count": null,
      "outputs": []
    }
  ]
}